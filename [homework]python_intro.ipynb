{
  "nbformat": 4,
  "nbformat_minor": 0,
  "metadata": {
    "kernelspec": {
      "display_name": "Python 3",
      "language": "python",
      "name": "python3"
    },
    "language_info": {
      "codemirror_mode": {
        "name": "ipython",
        "version": 3
      },
      "file_extension": ".py",
      "mimetype": "text/x-python",
      "name": "python",
      "nbconvert_exporter": "python",
      "pygments_lexer": "ipython3",
      "version": "3.7.3"
    },
    "colab": {
      "provenance": [],
      "include_colab_link": true
    }
  },
  "cells": [
    {
      "cell_type": "markdown",
      "metadata": {
        "id": "view-in-github",
        "colab_type": "text"
      },
      "source": [
        "<a href=\"https://colab.research.google.com/github/nedokormysh/Stepik_DLS_basic/blob/week1/%5Bhomework%5Dpython_intro.ipynb\" target=\"_parent\"><img src=\"https://colab.research.google.com/assets/colab-badge.svg\" alt=\"Open In Colab\"/></a>"
      ]
    },
    {
      "cell_type": "markdown",
      "metadata": {
        "id": "y1GvSl7RYATs"
      },
      "source": [
        "<p style=\"align: center;\"><img align=center src=\"https://s8.hostingkartinok.com/uploads/images/2018/08/308b49fcfbc619d629fe4604bceb67ac.jpg\" width=500 height=450/></p>\n",
        "\n",
        "<h3 style=\"text-align: center;\"><b>Курс \"Глубокое обучение\"</b></h3>\n",
        "\n",
        "<h2 style=\"text-align: center;\"><b>Домашнее задание. Основы Python</b></h2>\n",
        "\n",
        "Вам предлагается решить задачи ниже. Решения необходимо сдавать в Stepik."
      ]
    },
    {
      "cell_type": "markdown",
      "metadata": {
        "id": "MDEu6tZQYATy"
      },
      "source": [
        "### Почти двойной факториал\n",
        "Дано натуральное $N \\leqslant 100$.  Выведите произведение всех нечётных натуральных чисел, не превосходящих $N$."
      ]
    },
    {
      "cell_type": "code",
      "metadata": {
        "id": "5GgcNVy1YAT0",
        "colab": {
          "base_uri": "https://localhost:8080/"
        },
        "outputId": "0988ae51-682f-4069-d074-7b144bf3052c"
      },
      "source": [
        "N = 25\n",
        "\n",
        "#YOUR CODE\n",
        "\n",
        "N_double_fact = almost_double_factorial(N)\n",
        "\n",
        "assert N_double_fact == 7905853580625, \"Something is wrong! Please try again\"\n",
        "\n",
        "N_double_fact"
      ],
      "execution_count": 3,
      "outputs": [
        {
          "output_type": "execute_result",
          "data": {
            "text/plain": [
              "7905853580625"
            ]
          },
          "metadata": {},
          "execution_count": 3
        }
      ]
    },
    {
      "cell_type": "code",
      "source": [
        "def almost_double_factorial(n):\n",
        "    factorial = 1\n",
        "\n",
        "    if n == 0:\n",
        "      return factorial\n",
        "    else:\n",
        "      for i in range(1, n+1):\n",
        "        if i % 2 != 0:\n",
        "          factorial *= i\n",
        "    return factorial"
      ],
      "metadata": {
        "id": "P5v0Y1xwsrlu"
      },
      "execution_count": 1,
      "outputs": []
    },
    {
      "cell_type": "markdown",
      "metadata": {
        "id": "A57_204nYAT3"
      },
      "source": [
        "### Хитрая сортировка\n",
        "\n",
        "Пусть у нас есть следующий список, в котором элементы -- tuple из строк:\n",
        "\n",
        "``items = [('one', 'two'), ('three', 'four'), ('five', 'six'), ('string', 'a')]``\n",
        "\n",
        "Мы хотим отсортировать этот список по последней букве второго элемента каждого ``tuple``, т.е. получить такой список:\n",
        "\n",
        "``sorted_items = [('string', 'a'), ('one', 'two'), ('three', 'four'), ('five', 'six')]``.\n",
        "Что нужно вставить вместо \"###\" в следующем выражении, чтобы получить сортировку?\n",
        "\n",
        "``sorted_items = sorted(items, key=lambda x: ###)``"
      ]
    },
    {
      "cell_type": "code",
      "metadata": {
        "id": "SnIk7m_8YAT4"
      },
      "source": [
        "items = [('one', 'two'), ('three', 'four'), ('five', 'six'), ('string', 'a')]\n",
        "\n",
        "sorted_items = sorted(items, key=lambda x: <YOUR CODE>)\n",
        "                      \n",
        "assert sorted_items == [('string', 'a'), ('one', 'two'), ('three', 'four'), ('five', 'six')], \\\n",
        "\"Something is wrong! Please try again\""
      ],
      "execution_count": null,
      "outputs": []
    },
    {
      "cell_type": "code",
      "source": [
        "items = [('one', 'two'), ('three', 'four'), ('five', 'six'), ('string', 'a')]\n",
        "\n",
        "sorted_items = sorted(items, key=lambda x: x[1][-1])\n",
        "                      \n",
        "assert sorted_items == [('string', 'a'), ('one', 'two'), ('three', 'four'), ('five', 'six')], \\\n",
        "\"Something is wrong! Please try again\""
      ],
      "metadata": {
        "id": "3lGHcumCzyzt"
      },
      "execution_count": 7,
      "outputs": []
    },
    {
      "cell_type": "code",
      "source": [
        "a = ['a', ]"
      ],
      "metadata": {
        "id": "z5SfADAo0Krc"
      },
      "execution_count": null,
      "outputs": []
    },
    {
      "cell_type": "code",
      "source": [
        "items = [('one', 'two'), ('three', 'four'), ('five', 'six'), ('string', 'a')]\n",
        "\n",
        "sorted_items = sorted(items, key=lambda x: x[-1])\n",
        "sorted_items"
      ],
      "metadata": {
        "colab": {
          "base_uri": "https://localhost:8080/"
        },
        "id": "0CXoyK-w0FmM",
        "outputId": "25b5eb81-20e5-4110-a21b-319e22723848"
      },
      "execution_count": 6,
      "outputs": [
        {
          "output_type": "execute_result",
          "data": {
            "text/plain": [
              "[('string', 'a'), ('three', 'four'), ('five', 'six'), ('one', 'two')]"
            ]
          },
          "metadata": {},
          "execution_count": 6
        }
      ]
    },
    {
      "cell_type": "markdown",
      "metadata": {
        "id": "f_ggknIxYAT7"
      },
      "source": [
        "### Слайсы\n",
        "\n",
        "Дан код:\n",
        "\n",
        "``x = [1, 2, 3, 4, 5]``\n",
        "\n",
        "``x[###] = [-1, -3, -5]``\n",
        "\n",
        "``print(x)``\n",
        "\n",
        "Напишите слайс вместо ###, чтобы на экран вывелось:\n",
        "\n",
        "``[-5, 2, -3, 4, -1]``"
      ]
    },
    {
      "cell_type": "code",
      "metadata": {
        "id": "JcLMmkF6YAT8"
      },
      "source": [
        "x = [1, 2, 3, 4, 5]\n",
        "x[::-2] = [-1, -3, -5]\n",
        "\n",
        "assert x == [-5, 2, -3, 4, -1]"
      ],
      "execution_count": 19,
      "outputs": []
    },
    {
      "cell_type": "code",
      "source": [
        "x = [1, 2, 3, 4, 5]\n",
        "# x[::-2] = [-1, -3, -5]\n",
        "\n",
        "x[::-2]\n",
        "# x[::2]\n",
        "# assert x == [-5, 2, -3, 4, -1]"
      ],
      "metadata": {
        "colab": {
          "base_uri": "https://localhost:8080/"
        },
        "id": "CymHdfVU1uxf",
        "outputId": "4aff12af-ebd0-4a7e-a0cb-ab85235ca455"
      },
      "execution_count": 20,
      "outputs": [
        {
          "output_type": "execute_result",
          "data": {
            "text/plain": [
              "[5, 3, 1]"
            ]
          },
          "metadata": {},
          "execution_count": 20
        }
      ]
    },
    {
      "cell_type": "markdown",
      "metadata": {
        "id": "3QOrzr1_YAT_"
      },
      "source": [
        "### Создание массивов\n",
        "Дан массив $A[0,\\ldots,N-1]$. Напишите функцию, принимающую один обязательный аргумент A и один опциональный аргумент ``erase``, по умолчанию равный 1. Возвратите массив $B[0,\\ldots, N-1]$, где $B_i = A_0 + \\ldots + A_{i}$ --- массив частичных сумм массива $A$, предварительно удалив из массива $B$ все элементы, равные erase. Постарайтесь сделать это за линейное время без использования Numpy."
      ]
    },
    {
      "cell_type": "code",
      "metadata": {
        "id": "GSeVXF-xYAUA"
      },
      "source": [
        "def cumsum_and_erase(A, erase=10):\n",
        "    #YOUR CODE\n",
        "    b = 0\n",
        "    B = []\n",
        "\n",
        "    for el in A:\n",
        "      b += el\n",
        "      if b != erase:\n",
        "        B.append(b)\n",
        "    return B\n",
        "\n",
        "A = [5, 1, 4, 5, 14]\n",
        "B = cumsum_and_erase(A, erase=10)\n",
        "\n",
        "assert B == [5, 6, 15, 29], \"Something is wrong! Please try again\""
      ],
      "execution_count": 32,
      "outputs": []
    },
    {
      "cell_type": "code",
      "source": [
        "sum(A)"
      ],
      "metadata": {
        "colab": {
          "base_uri": "https://localhost:8080/"
        },
        "id": "syAsyYgD9IJ9",
        "outputId": "ce27bcf6-7043-46b7-f710-3ee6508889a7"
      },
      "execution_count": 33,
      "outputs": [
        {
          "output_type": "execute_result",
          "data": {
            "text/plain": [
              "29"
            ]
          },
          "metadata": {},
          "execution_count": 33
        }
      ]
    },
    {
      "cell_type": "code",
      "source": [
        "def cumsum_and_erase(A, erase=1):\n",
        "    \n",
        "    B = []\n",
        "    for i in range(1, len(A)+1):\n",
        "        b = sum(A[:i])\n",
        "        if b != erase:\n",
        "            B.append(b)\n",
        "    if B == []:\n",
        "        return \"Something is wrong! Please try again\"\n",
        "    else:\n",
        "        return B"
      ],
      "metadata": {
        "id": "x02L7cGQ-BWN"
      },
      "execution_count": 40,
      "outputs": []
    },
    {
      "cell_type": "markdown",
      "metadata": {
        "id": "xvOBFjavYAUD"
      },
      "source": [
        "### Обработка текста\n",
        "Дан список текстов, слова в которых разделены пробелами (можно считать, что знаков препинания нет). Часть слов является \"мусорными\": в них присутствуют цифры и спецсимволы. Отфильтруйте такие слова из каждого текста. Используйте функции ``str.split``, ``str.isalpha``, ``str.join``, а также [генератор filter](http://pythonicway.com/python-functinal-programming)."
      ]
    },
    {
      "cell_type": "code",
      "metadata": {
        "id": "GBzS-UHZYAUE"
      },
      "source": [
        "sentences = ['1 thousand devils', 'My name is 9Pasha', 'Room #125 costs $100']\n",
        "\n",
        "def process(sentences):\n",
        "    #YOUR CODE\n",
        "    \n",
        "    result = #YOUR CODE\n",
        "    return result\n",
        "\n",
        "assert process(sentences) == ['thousand devils', 'My name is', 'Room costs'], \\\n",
        "\"Something is wrong! Please try again\""
      ],
      "execution_count": null,
      "outputs": []
    },
    {
      "cell_type": "code",
      "source": [
        "not 'thousand devils'.isalpha()"
      ],
      "metadata": {
        "colab": {
          "base_uri": "https://localhost:8080/"
        },
        "id": "tuUjPibWDQDl",
        "outputId": "f29227c1-84ce-4304-afe3-5384ca35af69"
      },
      "execution_count": 53,
      "outputs": [
        {
          "output_type": "execute_result",
          "data": {
            "text/plain": [
              "True"
            ]
          },
          "metadata": {},
          "execution_count": 53
        }
      ]
    },
    {
      "cell_type": "code",
      "source": [
        "sentences = ['1 thousand devils', 'My name is 9Pasha', 'Room #125 costs $100']\n",
        "\n",
        "def process(sentences):\n",
        "    result = []\n",
        "    for el in sentences:\n",
        "      new_lst = []\n",
        "      el = el.split(' ')\n",
        "      # print(el)\n",
        "      new_lst = [x for x in el if x.isalpha()]\n",
        "      # print(new_lst)\n",
        "      line = ' '.join(new_lst)\n",
        "      # print(line)\n",
        "      # for i in el:\n",
        "      #   if not i.isalpha():\n",
        "      #     print(not i.isalpha())\n",
        "      #     el_new.join(i)\n",
        "      #     print(el_new)\n",
        "      result.append(line)\n",
        "    \n",
        "    # result = #YOUR CODE\n",
        "    return result\n",
        "\n",
        "process(sentences)"
      ],
      "metadata": {
        "colab": {
          "base_uri": "https://localhost:8080/"
        },
        "id": "pbzuloFeBT-4",
        "outputId": "8a4aa58b-fa1d-438c-c9b9-598a16c217b8"
      },
      "execution_count": 60,
      "outputs": [
        {
          "output_type": "execute_result",
          "data": {
            "text/plain": [
              "['thousand devils', 'My name is', 'Room costs']"
            ]
          },
          "metadata": {},
          "execution_count": 60
        }
      ]
    },
    {
      "cell_type": "markdown",
      "metadata": {
        "id": "EK5Llgf7YAUG"
      },
      "source": [
        "### Собственный класс \"Нейрон\"\n",
        "Реализуйте класс \"Нейрон\", у которого будет несколько методов: \n",
        "\n",
        "* ``__init__``. Принимает на вход массив весов нейрона --- $w = (w_1, \\ldots, w_n)$, а также функцию активации $f$ (по умолчанию $f(x) = x$). Сохраняет веса и функцию внутри класса.\n",
        "\n",
        "* ``forward``. Принимает на вход массив $x = (x_1, \\ldots, x_N)$ --- входы нейрона. Возвращает $f(w_1x_1 + \\ldots + w_nx_n)$.\n",
        "\n",
        "* ``backlog``. Возвращает последний массив $x$, который подавался функции ``forward`` на вход. \n",
        "\n",
        "Если у вас появились трудности, информация по созданию своих классов есть здесь: https://pythonworld.ru/osnovy/obektno-orientirovannoe-programmirovanie-obshhee-predstavlenie.html"
      ]
    },
    {
      "cell_type": "code",
      "metadata": {
        "id": "ZmUVu7fNYAUH"
      },
      "source": [
        "class Neuron:\n",
        "    \n",
        "    def __init__(self, w, f = lambda x: x):\n",
        "        #YOUR CODE HERE\n",
        "    \n",
        "    def forward(self, x):\n",
        "        #YOUR CODE HERE\n",
        "        \n",
        "    def backlog(self):\n",
        "        #YOUR CODE HERE"
      ],
      "execution_count": null,
      "outputs": []
    },
    {
      "cell_type": "code",
      "source": [
        "import math"
      ],
      "metadata": {
        "id": "TePsbqHvMByE"
      },
      "execution_count": 90,
      "outputs": []
    },
    {
      "cell_type": "code",
      "metadata": {
        "id": "g6OIjuZhYAUK",
        "colab": {
          "base_uri": "https://localhost:8080/"
        },
        "outputId": "14aa3f16-3ada-4aa4-d19f-2a35667a2154"
      },
      "source": [
        "# import math\n",
        "\n",
        "w = [0.5, 1., -1., 2.]\n",
        "\n",
        "neuron = Neuron([0.5, 1., -1., 2.], lambda x: 1. / (1 + math.exp(x)))\n",
        "\n",
        "x = [1, 2, 3, 4]\n",
        "\n",
        "assert abs(neuron.forward(x) - 0.0005527) < 1e-6, \"Something is wrong! Please try again\"\n",
        "\n",
        "assert neuron.backlog() == x, \"Something is wrong! Please try again\"\n",
        "\n",
        "y = [0, 0, 0, 0]\n",
        "\n",
        "assert abs(neuron.forward(y) - 0.5) < 1e-6, \"Something is wrong! Please try again\""
      ],
      "execution_count": 126,
      "outputs": [
        {
          "output_type": "stream",
          "name": "stdout",
          "text": [
            "7.5\n",
            "0.0\n"
          ]
        }
      ]
    },
    {
      "cell_type": "code",
      "source": [
        "class Neuron:\n",
        "\n",
        "    def __init__(self, w, f = lambda x: x):\n",
        "        self.w = w\n",
        "        self.f = f\n",
        "        self.x = None\n",
        "        \n",
        "    def forward(self, x):\n",
        "        # print(x)\n",
        "        self.x = x        \n",
        "        sum = 0\n",
        "        for i, j in zip(self.w, self.x):\n",
        "          sum += i * j\n",
        "        \n",
        "        # print(sum)\n",
        "        return self.f(sum)\n",
        "\n",
        "    def backlog(self):\n",
        "        return self.x"
      ],
      "metadata": {
        "id": "9xeyzIWjIcgA"
      },
      "execution_count": 125,
      "outputs": []
    },
    {
      "cell_type": "code",
      "source": [
        "w = [0.5, 1., -1., 2.]\n",
        "x = [1, 2, 3, 4]\n",
        "\n",
        "sum = 0\n",
        "for i, j in zip(w, x):\n",
        "  sum += i * j\n",
        "\n",
        "sum"
      ],
      "metadata": {
        "colab": {
          "base_uri": "https://localhost:8080/"
        },
        "id": "Dnd0pGYAI6ye",
        "outputId": "93419c5f-ca24-46da-b1c5-4a1dbb80face"
      },
      "execution_count": 65,
      "outputs": [
        {
          "output_type": "execute_result",
          "data": {
            "text/plain": [
              "7.5"
            ]
          },
          "metadata": {},
          "execution_count": 65
        }
      ]
    }
  ]
}